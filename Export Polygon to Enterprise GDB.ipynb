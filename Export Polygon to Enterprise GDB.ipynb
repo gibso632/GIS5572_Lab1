{
 "cells": [
  {
   "cell_type": "code",
   "execution_count": 2,
   "metadata": {},
   "outputs": [],
   "source": [
    "import arcpy\n",
    "import psycopg2\n",
    "from psycopg2 import sql"
   ]
  },
  {
   "cell_type": "code",
   "execution_count": 3,
   "metadata": {},
   "outputs": [],
   "source": [
    "# Use arcpy.Polygon() function to combine points into a polygon\n",
    "custom_poly = arcpy.Polygon(\n",
    "    \n",
    "# Combine points into an arcpy array\n",
    "    arcpy.Array(\n",
    "        \n",
    "# Create list of points\n",
    "        [arcpy.Point(1,2),\n",
    "        arcpy.Point(2,1),\n",
    "        arcpy.Point(2,2)]\n",
    "    ))\n",
    "\n",
    "# Define a spatial reference\n",
    "spatial_ref = arcpy.SpatialReference(4326)\n",
    "\n",
    "# Assign spatial reference to the polygon\n",
    "custom_poly.SR = spatial_ref"
   ]
  },
  {
   "cell_type": "code",
   "execution_count": 4,
   "metadata": {
    "scrolled": true
   },
   "outputs": [
    {
     "name": "stdout",
     "output_type": "stream",
     "text": [
      "MULTIPOLYGON (((1.0001220703125 2.0001220703125, 2.0001220703125 1.0001220703125, 2.0001220703125 2.0001220703125, 1.0001220703125 2.0001220703125)))\n"
     ]
    }
   ],
   "source": [
    "# Convert custom polygon to well-known text\n",
    "poly_WKT = custom_poly.WKT\n",
    "print(poly_WKT)"
   ]
  },
  {
   "cell_type": "code",
   "execution_count": 6,
   "metadata": {},
   "outputs": [],
   "source": [
    "# Define GDB name, username, password, host, and port to connect to\n",
    "database = 'lab0'\n",
    "user = 'postgres'\n",
    "password = 'password'\n",
    "host = '35.184.2.25'\n",
    "port = 5432\n",
    "\n",
    "# Connect to PostgreSQL database\n",
    "conn = psycopg2.connect(database=database, user=user, password=password, host=host, port=port)\n",
    "cursor = conn.cursor()\n"
   ]
  },
  {
   "cell_type": "code",
   "execution_count": null,
   "metadata": {},
   "outputs": [],
   "source": [
    "# Create SQL query in WKT to create empty table\n",
    "query = sql.SQL('''\n",
    "    CREATE TABLE lab1(\n",
    "     name VARCHAR(100),\n",
    "     geom GEOMETRY(MULTIPOLYGON,4326)\n",
    ");\n",
    "''')\n",
    "\n",
    "# Add empty table to PostgreSQL geodatabase\n",
    "cursor.execute(query)\n"
   ]
  },
  {
   "cell_type": "code",
   "execution_count": 13,
   "metadata": {},
   "outputs": [],
   "source": [
    "# Add polygon data to empty table\n",
    "query = sql.SQL('''\n",
    "    INSERT INTO lab1 (name,geom)\n",
    "    VALUES \n",
    "        ('Lab_1',ST_GeomFromText(%s,4326)\n",
    ");\n",
    "''')\n",
    "\n"
   ]
  },
  {
   "cell_type": "code",
   "execution_count": null,
   "metadata": {},
   "outputs": [],
   "source": [
    "cursor.execute(query,[poly_WKT])\n",
    "conn.commit()"
   ]
  },
  {
   "cell_type": "code",
   "execution_count": null,
   "metadata": {},
   "outputs": [],
   "source": [
    "cursor.close()\n",
    "conn.close()"
   ]
  }
 ],
 "metadata": {
  "kernelspec": {
   "display_name": "ArcGISPro",
   "language": "Python",
   "name": "python3"
  },
  "language_info": {
   "file_extension": ".py",
   "name": "python",
   "version": "3"
  }
 },
 "nbformat": 4,
 "nbformat_minor": 2
}
